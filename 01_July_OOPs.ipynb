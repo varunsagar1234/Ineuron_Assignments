{
  "nbformat": 4,
  "nbformat_minor": 0,
  "metadata": {
    "colab": {
      "provenance": []
    },
    "kernelspec": {
      "name": "python3",
      "display_name": "Python 3"
    },
    "language_info": {
      "name": "python"
    }
  },
  "cells": [
    {
      "cell_type": "markdown",
      "source": [
        "**What is the primary goal of Object-Oriented Programming (OOP)?**\n",
        "\n",
        "Ans)The primary goal of Object-Oriented Programming (OOP) is to improve the manageability, modularity, reusability, and understandability of code by organizing it around the concept of \"objects.\" These objects are meant to represent entities in the real world or in the problem domain, encapsulating both data and behavior (functions or methods) related to that entity.\n",
        "\n",
        "**Encapsulation**: This involves bundling data (attributes) and methods (functions) that operate on the data into a single unit or class. This also provides mechanisms to restrict access to certain components, ensuring that internal details are hidden from the outside, which leads to safer and more maintainable code.\n",
        "\n",
        "**Inheritance**: This allows a new class to inherit properties and methods from an existing class, promoting the reuse of code and establishing a natural hierarchy between classes. It facilitates the creation of a new class based on an existing one, with the possibility of adding or overriding certain behaviors.\n",
        "\n",
        "**Polymorphism**: This means \"many shapes\" and in OOP, it allows objects of different classes to be treated as objects of a common super class. This is especially powerful when combined with inheritance, as it allows for flexibility and reuse, as well as more intuitive interfaces in many cases.\n",
        "\n",
        "**Abstraction**: Abstraction allows for modeling complex systems by breaking them down into smaller, more manageable parts and focusing only on the relevant details. In OOP, this is achieved by defining classes and their interfaces in a way that represents the essential characteristics of the problem domain while ignoring the non-essential details."
      ],
      "metadata": {
        "id": "cGJCLTNFRQYy"
      }
    },
    {
      "cell_type": "markdown",
      "source": [
        "**What is an object in Python?**\n",
        "\n",
        "Ans)In Python, almost everything is an object. An object is an instance of a data structure defined by a class, and it can have attributes (to store data) and methods (to perform actions). Each object in Python has a unique ID, a type, and a value."
      ],
      "metadata": {
        "id": "AqpOFVloRnZe"
      }
    },
    {
      "cell_type": "code",
      "source": [
        "class Dog:\n",
        "    def __init__(self, name):\n",
        "        self.name = name\n",
        "\n",
        "    def bark(self):\n",
        "        return \"Woof!\"\n",
        "\n",
        "my_dog = Dog(\"Buddy\")\n",
        "print(type(my_dog))  # <class '__main__.Dog'>\n"
      ],
      "metadata": {
        "colab": {
          "base_uri": "https://localhost:8080/"
        },
        "id": "UR_Hr5FkR9KN",
        "outputId": "b13cb47f-00b6-4fe1-9c75-50f3b969f06a"
      },
      "execution_count": 1,
      "outputs": [
        {
          "output_type": "stream",
          "name": "stdout",
          "text": [
            "<class '__main__.Dog'>\n"
          ]
        }
      ]
    },
    {
      "cell_type": "markdown",
      "source": [
        "**What is a class in Python?**\n",
        "\n",
        "Ans)In Python, a class provides a blueprint for creating objects. A class encapsulates data for the object and methods to manipulate that data. In essence, a class provides a way to define a new type of object that can have its own attributes and methods."
      ],
      "metadata": {
        "id": "vS_QN0fXRvPg"
      }
    },
    {
      "cell_type": "code",
      "source": [
        "class Car:\n",
        "    # Constructor method\n",
        "    def __init__(self, brand, model, year):\n",
        "        self.brand = brand\n",
        "        self.model = model\n",
        "        self.year = year\n",
        "        self.miles = 0\n",
        "\n",
        "    # Method to drive the car\n",
        "    def drive(self, distance):\n",
        "        self.miles += distance\n",
        "        return f\"Driving {distance} miles!\"\n",
        "\n",
        "    # Method to display details about the car\n",
        "    def display_info(self):\n",
        "        return f\"{self.year} {self.brand} {self.model}, driven for {self.miles} miles.\"\n",
        "# Create a new instance of the Car class\n",
        "my_car = Car(\"Toyota\", \"Camry\", 2022)\n",
        "\n",
        "# Drive the car for 100 miles\n",
        "my_car.drive(100)\n",
        "\n",
        "# Display info about the car\n",
        "print(my_car.display_info())  # Outputs: \"2022 Toyota Camry, driven for 100 miles.\"\n"
      ],
      "metadata": {
        "colab": {
          "base_uri": "https://localhost:8080/"
        },
        "id": "jDsD8ClmSA_8",
        "outputId": "298f6528-fdaf-49f8-92b5-8df152db61bf"
      },
      "execution_count": 3,
      "outputs": [
        {
          "output_type": "stream",
          "name": "stdout",
          "text": [
            "2022 Toyota Camry, driven for 100 miles.\n"
          ]
        }
      ]
    },
    {
      "cell_type": "markdown",
      "source": [
        "**What are attributes and methods in a class?**\n",
        "\n",
        "Ans)Attributes and methods are fundamental components of a class in object-oriented programming. They represent the data and behavior of objects created from that class, respectively.\n",
        "\n",
        "**Attributes:**\n",
        "\n",
        "Attributes are variables that store data and belong to the class or the instances (objects) of the class.\n",
        "\n",
        "\n",
        "**Instance Attributes**: These are attributes that belong to an instance (object) of the class. Each instance will have its own copy of these attributes. They are typically initialized in the __init__ method.\n",
        "\n",
        "Class Attributes: These are attributes that belong to the class itself, rather than to instances of the class. All instances share the same copy of a class attribute.\n",
        "\n",
        "**Methods:**\n",
        "\n",
        "Methods are functions defined within the class and represent actions or behaviors that instances of the class can perform. They often operate on attributes, either reading or modifying them.\n",
        "\n",
        "\n",
        "**Instance Methods:** These methods take self as their first parameter, which refers to the instance that called the method. They operate on instance data.\n",
        "\n",
        "**Class Methods:** Defined using the @classmethod decorator, these methods take cls as their first parameter, which refers to the class itself, not an instance of it. They operate on class-level data.\n",
        "\n",
        "**Static Methods:** Defined using the @staticmethod decorator, these methods don't take a special first parameter. They don't operate on instance or class data and behave like regular functions, but they are part of the class's namespace."
      ],
      "metadata": {
        "id": "lDs4Ts4tR5Gl"
      }
    },
    {
      "cell_type": "code",
      "source": [
        "#Attributes\n",
        "class Dog:\n",
        "    breed = \"Unknown\"  # This is a class attribute\n",
        "\n",
        "    def __init__(self, name):\n",
        "        self.name = name  # This is an instance attribute\n"
      ],
      "metadata": {
        "id": "HQEQ3Ei9SoD8"
      },
      "execution_count": 4,
      "outputs": []
    },
    {
      "cell_type": "code",
      "source": [
        "#methods\n",
        "class Dog:\n",
        "    def __init__(self, name):\n",
        "        self.name = name\n",
        "\n",
        "    def bark(self):  # This is an instance method\n",
        "        return f\"{self.name} barks!\"\n",
        "\n",
        "    @classmethod\n",
        "    def generic_bark(cls):  # This is a class method\n",
        "        return \"A dog barks!\"\n",
        "\n",
        "    @staticmethod\n",
        "    def is_mammal():  # This is a static method\n",
        "        return True\n"
      ],
      "metadata": {
        "id": "i-jLj4cXSsR7"
      },
      "execution_count": 5,
      "outputs": []
    },
    {
      "cell_type": "code",
      "source": [
        "# Creating an instance of the Dog class\n",
        "dog1 = Dog(\"Buddy\")\n",
        "\n",
        "# Accessing an attribute\n",
        "print(dog1.name)  # Outputs: \"Buddy\"\n",
        "\n",
        "# Calling an instance method\n",
        "print(dog1.bark())  # Outputs: \"Buddy barks!\"\n",
        "\n",
        "# Calling a class method\n",
        "print(Dog.generic_bark())  # Outputs: \"A dog barks!\"\n",
        "\n",
        "# Calling a static method\n",
        "print(Dog.is_mammal())  # Outputs: True\n"
      ],
      "metadata": {
        "colab": {
          "base_uri": "https://localhost:8080/"
        },
        "id": "weI4mxW6Swu2",
        "outputId": "5a8f02e2-a00a-490f-bb60-799f38df834a"
      },
      "execution_count": 6,
      "outputs": [
        {
          "output_type": "stream",
          "name": "stdout",
          "text": [
            "Buddy\n",
            "Buddy barks!\n",
            "A dog barks!\n",
            "True\n"
          ]
        }
      ]
    },
    {
      "cell_type": "markdown",
      "source": [
        "**What is the difference between class variables and instance variables in Python?**\n",
        "\n",
        "Ans)\n",
        "In Python, within the context of classes, there are two primary types of variables: class variables and instance variables. They differ in their scope, lifetime, and how they are accessed and used.\n",
        "\n",
        "**Class Variables:**\n",
        "\n",
        "Class variables are variables that are shared across all instances (objects) of the class. They belong to the class itself, not to any specific instance.\n",
        "\n",
        "Class-wide. All instances of the class access and share the same class variable.\n",
        "\n",
        "Exist as long as the class exists in the program.\n",
        "\n",
        "Typically used for constants or attributes and methods that should be the same for every instance of the class.\n",
        "\n",
        "Can be accessed using both the class name and the instance, though the class name is preferable for clarity.\n",
        "\n",
        "**Instance Variables:**\n",
        "\n",
        "Instance variables are variables that belong to an individual instance (object) of the class. Each instance has its own copy of the instance variable.\n",
        "\n",
        "Instance-specific. Each instance has its own value for an instance variable.\n",
        "\n",
        "Exist as long as the specific instance exists in the program.\n",
        "\n",
        "Used for data that is unique to each instance.\n",
        "\n",
        "Accessed using the instance of the class."
      ],
      "metadata": {
        "id": "WQ5qrLrRS0jH"
      }
    },
    {
      "cell_type": "code",
      "source": [
        "#Let's consider a real-world example involving a BankAccount class:\n",
        "class BankAccount:\n",
        "\n",
        "    # Class variable for interest rate\n",
        "    interest_rate = 0.05  # assuming 5% annual interest for all accounts\n",
        "\n",
        "    def __init__(self, account_holder, initial_balance):\n",
        "        # Instance variables for account holder and balance\n",
        "        self.account_holder = account_holder\n",
        "        self.balance = initial_balance\n",
        "\n",
        "    def add_interest(self):\n",
        "        \"\"\"Add annual interest to the balance.\"\"\"\n",
        "        self.balance += self.balance * BankAccount.interest_rate\n",
        "\n",
        "    def deposit(self, amount):\n",
        "        self.balance += amount\n",
        "\n",
        "    def withdraw(self, amount):\n",
        "        if amount <= self.balance:\n",
        "            self.balance -= amount\n",
        "        else:\n",
        "            print(\"Insufficient funds\")\n",
        "\n",
        "    def display_balance(self):\n",
        "        return f\"{self.account_holder} has a balance of ${self.balance:.2f}\"\n",
        "\n",
        "# Creating two bank accounts\n",
        "alice_account = BankAccount(\"Alice\", 1000)\n",
        "bob_account = BankAccount(\"Bob\", 500)\n",
        "\n",
        "# Add interest to Alice's account\n",
        "alice_account.add_interest()\n",
        "print(alice_account.display_balance())  # Outputs: Alice has a balance of $1050.00\n",
        "\n",
        "# Changing the class variable 'interest_rate' will affect all instances\n",
        "BankAccount.interest_rate = 0.07  # Change interest rate to 7%\n",
        "bob_account.add_interest()\n",
        "print(bob_account.display_balance())  # Outputs: Bob has a balance of $535.00\n",
        "\n"
      ],
      "metadata": {
        "colab": {
          "base_uri": "https://localhost:8080/"
        },
        "id": "AIcZe5NbTgor",
        "outputId": "adccd87a-9461-4397-f7fc-17b587b0ab18"
      },
      "execution_count": 7,
      "outputs": [
        {
          "output_type": "stream",
          "name": "stdout",
          "text": [
            "Alice has a balance of $1050.00\n",
            "Bob has a balance of $535.00\n"
          ]
        }
      ]
    },
    {
      "cell_type": "markdown",
      "source": [
        "**What is the purpose of the self parameter in Python class methods?**\n",
        "\n",
        "Ans)In Python class methods, the self parameter represents the instance of the class on which the method is being called. It allows you to access and modify instance-specific attributes and call other instance methods. The term self is a convention; you could technically use any name, but self is widely accepted and understood by Python developers.\n",
        "\n",
        "Here's the purpose of the self parameter:\n",
        "\n",
        "It refers to the instance of the class. Through self, you can access the attributes and methods of the instance.\n",
        "\n",
        "When you want to store data in an instance or retrieve data from it, you use self to bind attributes to a particular instance.\n",
        "\n",
        "When calling one instance method from another, you use self to reference the method, ensuring it operates on the same instance data."
      ],
      "metadata": {
        "id": "nF4HHxknUf8_"
      }
    },
    {
      "cell_type": "markdown",
      "source": [
        "**For a library management system, you have to design the \"Book\" class with OOP\n",
        "principles in mind.**\n",
        "\n",
        "**The “Book” class will have following attributes:**\n",
        "\n",
        "a. title: Represents the title of the book.\n",
        "\n",
        "b. author: Represents the author(s) of the book.\n",
        "\n",
        "c. isbn: Represents the ISBN (International Standard Book Number) of the book.\n",
        "\n",
        "d. publication_year: Represents the year of publication of the book.\n",
        "\n",
        "e. available_copies: Represents the number of copies available for checkout.\n",
        "\n",
        "**The class will also include the following methods:**\n",
        "\n",
        "a. check_out(self): Decrements the available copies by one if there are copies\n",
        "available for checkout.\n",
        "\n",
        "b. return_book(self): Increments the available copies by one when a book is\n",
        "returned.\n",
        "\n",
        "c. display_book_info(self): Displays the information about the book, including its\n",
        "attributes and the number of available copies."
      ],
      "metadata": {
        "id": "sH5LRSAQU2Cu"
      }
    },
    {
      "cell_type": "code",
      "source": [
        "class Book:\n",
        "    def __init__(self, title, author, isbn, publication_year, available_copies):\n",
        "        self.title = title\n",
        "        self.author = author\n",
        "        self.isbn = isbn\n",
        "        self.publication_year = publication_year\n",
        "        self.available_copies = available_copies\n",
        "\n",
        "    def check_out(self):\n",
        "        if self.available_copies > 0:\n",
        "            self.available_copies -= 1\n",
        "            print(f\"You've successfully checked out {self.title}.\")\n",
        "        else:\n",
        "            print(\"Sorry, no available copies for this book at the moment.\")\n",
        "\n",
        "    def return_book(self):\n",
        "        self.available_copies += 1\n",
        "        print(f\"Thanks for returning {self.title}!\")\n",
        "\n",
        "    def display_book_info(self):\n",
        "        info = f\"\"\"\n",
        "        Title: {self.title}\n",
        "        Author: {self.author}\n",
        "        ISBN: {self.isbn}\n",
        "        Publication Year: {self.publication_year}\n",
        "        Available Copies: {self.available_copies}\n",
        "        \"\"\"\n",
        "        print(info)\n",
        "\n",
        "# Example Usage:\n",
        "book1 = Book(\"The Great Gatsby\", \"F. Scott Fitzgerald\", \"9780743273565\", 1925, 5)\n",
        "book1.display_book_info()\n",
        "book1.check_out()\n",
        "book1.display_book_info()\n",
        "book1.return_book()\n",
        "book1.display_book_info()\n"
      ],
      "metadata": {
        "colab": {
          "base_uri": "https://localhost:8080/"
        },
        "id": "wsl9vzNCVCeG",
        "outputId": "1beae459-b1b3-47f8-df53-cfaa2285e829"
      },
      "execution_count": 9,
      "outputs": [
        {
          "output_type": "stream",
          "name": "stdout",
          "text": [
            "\n",
            "        Title: The Great Gatsby\n",
            "        Author: F. Scott Fitzgerald\n",
            "        ISBN: 9780743273565\n",
            "        Publication Year: 1925\n",
            "        Available Copies: 5\n",
            "        \n",
            "You've successfully checked out The Great Gatsby.\n",
            "\n",
            "        Title: The Great Gatsby\n",
            "        Author: F. Scott Fitzgerald\n",
            "        ISBN: 9780743273565\n",
            "        Publication Year: 1925\n",
            "        Available Copies: 4\n",
            "        \n",
            "Thanks for returning The Great Gatsby!\n",
            "\n",
            "        Title: The Great Gatsby\n",
            "        Author: F. Scott Fitzgerald\n",
            "        ISBN: 9780743273565\n",
            "        Publication Year: 1925\n",
            "        Available Copies: 5\n",
            "        \n"
          ]
        }
      ]
    },
    {
      "cell_type": "markdown",
      "source": [
        "**For a ticket booking system, you have to design the \"Ticket\" class with OOP\n",
        "principles in mind**\n",
        "\n",
        "**The “Ticket” class should have the following attributes:**\n",
        "\n",
        "a. ticket_id: Represents the unique identifier for the ticket.\n",
        "\n",
        "b. event_name: Represents the name of the event.\n",
        "\n",
        "c. event_date: Represents the date of the event.\n",
        "\n",
        "d. venue: Represents the venue of the event.\n",
        "\n",
        "e. seat_number: Represents the seat number associated with the ticket.\n",
        "\n",
        "f. price: Represents the price of the ticket.\n",
        "\n",
        "g. is_reserved: Represents the reservation status of the ticket.\n",
        "\n",
        "**The class also includes the following methods:**\n",
        "\n",
        "a. reserve_ticket(self): Marks the ticket as reserved if it is not already reserved.\n",
        "\n",
        "b. cancel_reservation(self): Cancels the reservation of the ticket if it is already\n",
        "reserved.\n",
        "\n",
        "c. display_ticket_info(self): Displays the information about the ticket, including its\n",
        "attributes and reservation status."
      ],
      "metadata": {
        "id": "rK3SUxzsVkXv"
      }
    },
    {
      "cell_type": "code",
      "source": [
        "class Ticket:\n",
        "    def __init__(self, ticket_id, customer_name, event_name, event_date, seat_number, price):\n",
        "        self.ticket_id = ticket_id\n",
        "        self.customer_name = customer_name\n",
        "        self.event_name = event_name\n",
        "        self.event_date = event_date\n",
        "        self.seat_number = seat_number\n",
        "        self.price = price\n",
        "        self.status = \"unbooked\"\n",
        "\n",
        "    def book_ticket(self):\n",
        "        if self.status == \"unbooked\":\n",
        "            self.status = \"booked\"\n",
        "            print(f\"Ticket {self.ticket_id} for {self.event_name} has been successfully booked!\")\n",
        "        else:\n",
        "            print(f\"Ticket {self.ticket_id} is already {self.status}.\")\n",
        "\n",
        "    def cancel_ticket(self):\n",
        "        if self.status == \"booked\":\n",
        "            self.status = \"cancelled\"\n",
        "            print(f\"Ticket {self.ticket_id} has been cancelled.\")\n",
        "        else:\n",
        "            print(f\"Cannot cancel a ticket that is {self.status}.\")\n",
        "\n",
        "    def use_ticket(self):\n",
        "        if self.status == \"booked\":\n",
        "            self.status = \"used\"\n",
        "            print(f\"Ticket {self.ticket_id} has been used. Enjoy the event!\")\n",
        "        else:\n",
        "            print(f\"Cannot use a ticket that is {self.status}.\")\n",
        "\n",
        "    def display_ticket_info(self):\n",
        "        info = f\"\"\"\n",
        "        Ticket ID: {self.ticket_id}\n",
        "        Customer: {self.customer_name}\n",
        "        Event: {self.event_name}\n",
        "        Date & Time: {self.event_date}\n",
        "        Seat: {self.seat_number}\n",
        "        Price: ${self.price:.2f}\n",
        "        Status: {self.status}\n",
        "        \"\"\"\n",
        "        print(info)\n",
        "\n",
        "# Example Usage:\n",
        "ticket1 = Ticket(101, \"John Doe\", \"Concert XYZ\", \"2023-09-05 19:00\", \"A-15\", 50)\n",
        "ticket1.display_ticket_info()\n",
        "ticket1.book_ticket()\n",
        "ticket1.use_ticket()\n",
        "ticket1.display_ticket_info()\n"
      ],
      "metadata": {
        "colab": {
          "base_uri": "https://localhost:8080/"
        },
        "id": "ZnBFP_odVx5b",
        "outputId": "5808b00a-56f4-427e-ddfd-aace0db9b80c"
      },
      "execution_count": 10,
      "outputs": [
        {
          "output_type": "stream",
          "name": "stdout",
          "text": [
            "\n",
            "        Ticket ID: 101\n",
            "        Customer: John Doe\n",
            "        Event: Concert XYZ\n",
            "        Date & Time: 2023-09-05 19:00\n",
            "        Seat: A-15\n",
            "        Price: $50.00\n",
            "        Status: unbooked\n",
            "        \n",
            "Ticket 101 for Concert XYZ has been successfully booked!\n",
            "Ticket 101 has been used. Enjoy the event!\n",
            "\n",
            "        Ticket ID: 101\n",
            "        Customer: John Doe\n",
            "        Event: Concert XYZ\n",
            "        Date & Time: 2023-09-05 19:00\n",
            "        Seat: A-15\n",
            "        Price: $50.00\n",
            "        Status: used\n",
            "        \n"
          ]
        }
      ]
    },
    {
      "cell_type": "markdown",
      "source": [
        "**You are creating a shopping cart for an e-commerce website. Using OOP to model\n",
        "the \"ShoppingCart\" functionality the class should contain following attributes and\n",
        "methods:**\n",
        "\n",
        "a. items: Represents the list of items in the shopping cart.\n",
        "\n",
        "The class also includes the following methods:\n",
        "\n",
        "a. add_item(self, item): Adds an item to the shopping cart by appending it to the\n",
        "list of items.\n",
        "\n",
        "b. remove_item(self, item): Removes an item from the shopping cart if it exists in\n",
        "the list.\n",
        "\n",
        "c. view_cart(self): Displays the items currently present in the shopping cart.\n",
        "\n",
        "d. clear_cart(self): Clears all items from the shopping cart by reassigning an\n",
        "empty list to the items attribute."
      ],
      "metadata": {
        "id": "2ilSineJWUAt"
      }
    },
    {
      "cell_type": "code",
      "source": [
        "class ShoppingCart:\n",
        "    def __init__(self):\n",
        "        # Initialize the items attribute as an empty list\n",
        "        self.items = []\n",
        "\n",
        "    def add_item(self, item):\n",
        "        self.items.append(item)\n",
        "        print(f\"{item} has been added to the cart.\")\n",
        "\n",
        "    def remove_item(self, item):\n",
        "        if item in self.items:\n",
        "            self.items.remove(item)\n",
        "            print(f\"{item} has been removed from the cart.\")\n",
        "        else:\n",
        "            print(f\"{item} is not in the cart.\")\n",
        "\n",
        "    def view_cart(self):\n",
        "        if self.items:\n",
        "            print(\"Items in your cart:\")\n",
        "            for i, item in enumerate(self.items, 1):\n",
        "                print(f\"{i}. {item}\")\n",
        "        else:\n",
        "            print(\"Your cart is empty.\")\n",
        "\n",
        "    def clear_cart(self):\n",
        "        self.items = []\n",
        "        print(\"The cart has been cleared.\")\n",
        "\n",
        "# Example Usage:\n",
        "cart = ShoppingCart()\n",
        "cart.add_item(\"T-shirt\")\n",
        "cart.add_item(\"Jeans\")\n",
        "cart.view_cart()\n",
        "cart.remove_item(\"Jeans\")\n",
        "cart.view_cart()\n",
        "cart.clear_cart()\n",
        "cart.view_cart()\n"
      ],
      "metadata": {
        "colab": {
          "base_uri": "https://localhost:8080/"
        },
        "id": "mB8XHxrbWbFr",
        "outputId": "9e051f2b-fae9-4b79-9f83-3094f8bc805f"
      },
      "execution_count": 12,
      "outputs": [
        {
          "output_type": "stream",
          "name": "stdout",
          "text": [
            "T-shirt has been added to the cart.\n",
            "Jeans has been added to the cart.\n",
            "Items in your cart:\n",
            "1. T-shirt\n",
            "2. Jeans\n",
            "Jeans has been removed from the cart.\n",
            "Items in your cart:\n",
            "1. T-shirt\n",
            "The cart has been cleared.\n",
            "Your cart is empty.\n"
          ]
        }
      ]
    },
    {
      "cell_type": "markdown",
      "source": [
        "**Imagine a school management system. You have to design the \"Student\" class using\n",
        "OOP concepts.The “Student” class has the following attributes:**\n",
        "\n",
        "a. name: Represents the name of the student.\n",
        "\n",
        "b. age: Represents the age of the student.\n",
        "\n",
        "c. grade: Represents the grade or class of the student.\n",
        "\n",
        "d. student_id: Represents the unique identifier for the student.\n",
        "\n",
        "e. attendance: Represents the attendance record of the student.\n",
        "\n",
        "**The class should also include the following methods:**\n",
        "\n",
        "a. update_attendance(self, date, status): Updates the attendance record of the\n",
        "student for a given date with the provided status (e.g., present or absent).\n",
        "\n",
        "b. get_attendance(self): Returns the attendance record of the student.\n",
        "\n",
        "c. get_average_attendance(self): Calculates and returns the average\n",
        "attendance percentage of the student based on their attendance record."
      ],
      "metadata": {
        "id": "Fd9UY-UBWvYR"
      }
    },
    {
      "cell_type": "code",
      "source": [
        "class Student:\n",
        "    def __init__(self, name, age, grade, student_id):\n",
        "        self.name = name\n",
        "        self.age = age\n",
        "        self.grade = grade\n",
        "        self.student_id = student_id\n",
        "        self.attendance = {}  # Dictionary to store attendance record: date -> status\n",
        "\n",
        "    def update_attendance(self, date, status):\n",
        "        if status.lower() in ['present', 'absent']:\n",
        "            self.attendance[date] = status\n",
        "            print(f\"Attendance updated for {date} as {status}.\")\n",
        "        else:\n",
        "            print(\"Invalid status. Use 'present' or 'absent'.\")\n",
        "\n",
        "    def get_attendance(self):\n",
        "        if not self.attendance:\n",
        "            return \"No attendance record available.\"\n",
        "        return self.attendance\n",
        "\n",
        "    def get_average_attendance(self):\n",
        "        total_days = len(self.attendance)\n",
        "        if total_days == 0:\n",
        "            return 0.0  # To avoid division by zero\n",
        "\n",
        "        # Count the days when the student was present\n",
        "        present_days = sum(1 for status in self.attendance.values() if status.lower() == 'present')\n",
        "\n",
        "        # Calculate the average attendance percentage\n",
        "        average_attendance = (present_days / total_days) * 100\n",
        "\n",
        "        return average_attendance\n",
        "\n",
        "# Example Usage:\n",
        "student1 = Student(\"Alice\", 16, \"10th Grade\", \"S101\")\n",
        "student1.update_attendance(\"2023-08-01\", \"present\")\n",
        "student1.update_attendance(\"2023-08-02\", \"absent\")\n",
        "student1.update_attendance(\"2023-08-03\", \"present\")\n",
        "\n",
        "print(student1.get_attendance())  # Outputs attendance record\n",
        "print(f\"Average Attendance: {student1.get_average_attendance():.2f}%\")\n"
      ],
      "metadata": {
        "colab": {
          "base_uri": "https://localhost:8080/"
        },
        "id": "Fq6Vz69gW2tL",
        "outputId": "8450a9a0-c26f-448c-e145-f6fb3dadfaf0"
      },
      "execution_count": 13,
      "outputs": [
        {
          "output_type": "stream",
          "name": "stdout",
          "text": [
            "Attendance updated for 2023-08-01 as present.\n",
            "Attendance updated for 2023-08-02 as absent.\n",
            "Attendance updated for 2023-08-03 as present.\n",
            "{'2023-08-01': 'present', '2023-08-02': 'absent', '2023-08-03': 'present'}\n",
            "Average Attendance: 66.67%\n"
          ]
        }
      ]
    },
    {
      "cell_type": "code",
      "source": [],
      "metadata": {
        "id": "URSS-blxXcn8"
      },
      "execution_count": null,
      "outputs": []
    }
  ]
}